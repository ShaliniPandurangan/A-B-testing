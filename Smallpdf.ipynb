{
 "cells": [
  {
   "cell_type": "markdown",
   "metadata": {},
   "source": [
    "# Analysis of A/B Test Results"
   ]
  },
  {
   "cell_type": "markdown",
   "metadata": {},
   "source": [
    "### Alternate_Hypothesis\n",
    "H0: There is no difference in conversion between control group and test group\n",
    "\n",
    "H1: The variant increases conversion rate"
   ]
  },
  {
   "cell_type": "markdown",
   "metadata": {},
   "source": [
    "### we change the status quo if we have the uplift of 5% with 95% of confidence"
   ]
  },
  {
   "cell_type": "markdown",
   "metadata": {},
   "source": [
    "#### Importing required libraries"
   ]
  },
  {
   "cell_type": "code",
   "execution_count": 1,
   "metadata": {},
   "outputs": [],
   "source": [
    "import pandas as pd\n",
    "import numpy as np\n",
    "import scipy.stats as ss \n",
    "import matplotlib.pyplot as plt\n",
    "from scipy.stats import binom\n",
    "import scipy.stats as stats\n",
    "import numpy as np\n",
    "import seaborn as sns\n",
    "from scipy.stats import norm"
   ]
  },
  {
   "cell_type": "markdown",
   "metadata": {},
   "source": [
    "#### For an A/B experiment we follow the following procedures.\n",
    "1. Initially we setup the experiment and run the experiment\n",
    "2. We collect the data and prepare the data\n",
    "3. We visualize the obtained results\n",
    "4. Analyse the results of the obtained results\n",
    "5. Draw conclusion from the analysis"
   ]
  },
  {
   "cell_type": "markdown",
   "metadata": {},
   "source": [
    "#### Here task is to analyse and draw conclusions from the analysis"
   ]
  },
  {
   "cell_type": "code",
   "execution_count": 2,
   "metadata": {},
   "outputs": [],
   "source": [
    "df = pd.read_csv('analyst_homework_ab_test_results.csv')"
   ]
  },
  {
   "cell_type": "code",
   "execution_count": 3,
   "metadata": {},
   "outputs": [
    {
     "data": {
      "text/plain": [
       "199142"
      ]
     },
     "execution_count": 3,
     "metadata": {},
     "output_type": "execute_result"
    }
   ],
   "source": [
    "df.head()\n",
    "len(df)"
   ]
  },
  {
   "cell_type": "code",
   "execution_count": 4,
   "metadata": {},
   "outputs": [
    {
     "name": "stdout",
     "output_type": "stream",
     "text": [
      "Visitor of the page(both variant and original) is 199142.\n"
     ]
    }
   ],
   "source": [
    "print('Visitor of the page(both variant and original) is {}.'.format(len(df)))"
   ]
  },
  {
   "cell_type": "code",
   "execution_count": 5,
   "metadata": {},
   "outputs": [
    {
     "name": "stdout",
     "output_type": "stream",
     "text": [
      "The proportion of visitor of the page converted is 7.0%.\n"
     ]
    }
   ],
   "source": [
    "prop_users_converted = round(df.converted.mean() * 100)\n",
    "print('The proportion of visitor of the page converted is {}%.'.format(prop_users_converted))"
   ]
  },
  {
   "cell_type": "markdown",
   "metadata": {},
   "source": [
    "#### Looking at the conversion rate and other metrics to have a basic idea of which design wins"
   ]
  },
  {
   "cell_type": "code",
   "execution_count": 7,
   "metadata": {
    "scrolled": true
   },
   "outputs": [
    {
     "name": "stdout",
     "output_type": "stream",
     "text": [
      "          conversion_rate  std_deviation  std_error\n",
      "segment                                            \n",
      "original         0.071197       0.257154   0.000816\n",
      "variant          0.076068       0.265106   0.000840\n"
     ]
    }
   ],
   "source": [
    "#standard deviation\n",
    "standard_p = lambda x: np.std(x, ddof=0)    \n",
    "#standarda error\n",
    "standard_e_p = lambda x: stats.sem(x, ddof=0)            \n",
    "\n",
    "c_rate = df.groupby('segment')['converted'].agg([np.mean, standard_p, standard_e_p])\n",
    "c_rate.columns = ['conversion_rate', 'std_deviation', 'std_error']\n",
    "\n",
    "print(c_rate)"
   ]
  },
  {
   "cell_type": "markdown",
   "metadata": {},
   "source": [
    "#### Plotting the Conversion rate of the segment to visualize the result\n"
   ]
  },
  {
   "cell_type": "code",
   "execution_count": 8,
   "metadata": {},
   "outputs": [
    {
     "data": {
      "image/png": "[encoded data removed]",
      "text/plain": [
       "<Figure size 576x432 with 1 Axes>"
      ]
     },
     "metadata": {
      "needs_background": "light"
     },
     "output_type": "display_data"
    }
   ],
   "source": [
    "plt.figure(figsize=(8,6))\n",
    "sns.barplot(x=df['segment'], y=df['converted'])\n",
    "plt.ylim(0, 0.10)\n",
    "plt.title('Conversion rate of original and variant')\n",
    "plt.xlabel('segment')\n",
    "plt.ylabel('Converted percentage');"
   ]
  },
  {
   "cell_type": "markdown",
   "metadata": {},
   "source": [
    "#### Basic analysis"
   ]
  },
  {
   "cell_type": "markdown",
   "metadata": {},
   "source": [
    "\n",
    "* From the result above the variant showed plausible difference. \n",
    "* The conversion rate for the original segment is around 7.1% where as the conversion rate for the variant is around 7.6%. \n",
    "* So we know the the variant performed better but how do we know if this value is statistically significant?"
   ]
  },
  {
   "cell_type": "code",
   "execution_count": 9,
   "metadata": {},
   "outputs": [
    {
     "name": "stdout",
     "output_type": "stream",
     "text": [
      "0.07119724826004747 0.07606755320215818\n",
      "99428 99714\n",
      "0.07119724826004747 0.07606755320215818\n"
     ]
    }
   ],
   "source": [
    "A_original, B_variant = len(df.query(\"segment == 'original'\")),len(df.query(\"segment == 'variant'\"))\n",
    "Total_conversions = df.query('converted == 1.0')['customer_id'].nunique()\n",
    "A_original_conversions = df.query('converted == 1.0 and segment == \"original\"')['customer_id'].nunique()\n",
    "B_variant_conversions = df.query('converted == 1.0 and segment == \"variant\"')['customer_id'].nunique()\n",
    "conversion_rate_A,conversion_rate_B = A_original_conversions / A_original, B_variant_conversions / B_variant\n",
    "print(conversion_rate_A,conversion_rate_B)\n",
    "print(A_original,B_variant)\n",
    "print(conversion_rate_A,conversion_rate_B)"
   ]
  },
  {
   "cell_type": "markdown",
   "metadata": {},
   "source": [
    "### Plotting the distribution"
   ]
  },
  {
   "cell_type": "markdown",
   "metadata": {},
   "source": [
    "#### The standard deviation formulae used below\n",
    "\\begin{equation}\n",
    "\\text { standard deviation } \\sigma=\\sqrt{\\frac{p(1-p)}{n}}\n",
    "\\end{equation}"
   ]
  },
  {
   "cell_type": "code",
   "execution_count": 10,
   "metadata": {},
   "outputs": [
    {
     "data": {
      "image/png": "[encoded data removed]",
      "text/plain": [
       "<Figure size 432x288 with 1 Axes>"
      ]
     },
     "metadata": {
      "needs_background": "light"
     },
     "output_type": "display_data"
    }
   ],
   "source": [
    "# Use our conversion rate values to calculate the standard deviation as above metioned formulae\n",
    "std_a = np.sqrt(conversion_rate_A * (1 - conversion_rate_A) / A_original)\n",
    "std_b = np.sqrt(conversion_rate_B * (1 - conversion_rate_B) / B_variant)\n",
    "# Generate a range of values across the distribution sd around the mean\n",
    "Conversion_rate = np.linspace(0.06, 0.09, 200)\n",
    "# calculating the probabilities across the distributioin of conversion rates\n",
    "# this function converts values to probabilities from Normal distribution\n",
    "prob_a = ss.norm(conversion_rate_A, std_a).pdf(Conversion_rate)\n",
    "prob_b = ss.norm(conversion_rate_B, std_b).pdf(Conversion_rate)\n",
    "#Plotting a distribution\n",
    "plt.plot(Conversion_rate, prob_a, label=\"A\")\n",
    "plt.plot(Conversion_rate, prob_b, label=\"B\")\n",
    "plt.legend(frameon=False)\n",
    "plt.xlabel(\"Conversion rate\"); plt.ylabel(\"Probability\");"
   ]
  },
  {
   "cell_type": "code",
   "execution_count": 11,
   "metadata": {},
   "outputs": [
    {
     "name": "stdout",
     "output_type": "stream",
     "text": [
      "ci 95% for control group: [0.070, 0.073]\n",
      "ci 95% for treatment group: [0.074, 0.078]\n"
     ]
    },
    {
     "data": {
      "image/png": "[encoded data removed]",
      "text/plain": [
       "<Figure size 432x288 with 1 Axes>"
      ]
     },
     "metadata": {
      "needs_background": "light"
     },
     "output_type": "display_data"
    }
   ],
   "source": [
    "#Plotting the confidence interval\n",
    "from statsmodels.stats.proportion import proportions_ztest, proportion_confint\n",
    "\n",
    "z_score = (conversion_rate_B - conversion_rate_A) / np.sqrt(std_a**2 + std_b**2)\n",
    "p = norm(conversion_rate_B - conversion_rate_A, np.sqrt(std_a**2 + std_b**2))\n",
    "\n",
    "x = np.linspace(-0.0025, 0.012, 1000)\n",
    "y = p.pdf(x)\n",
    "area_under_curve = p.sf(0)\n",
    "plt.plot(x, y)\n",
    "plt.fill_between(x, 0, y, where=x>0, label=\"confidence interval\", alpha=0.3)\n",
    "plt.legend()\n",
    "plt.xlabel(\"Difference in conversion rate\")\n",
    "plt.ylabel(\"Probability\")\n",
    "\n",
    "convs = [A_original_conversions,B_variant_conversions]\n",
    "total = [A_original, B_variant]\n",
    "\n",
    "z_stat, pval = proportions_ztest(convs, nobs=total)\n",
    "(lower_con, lower_treat), (upper_con, upper_treat) = proportion_confint(convs, nobs=total, alpha=0.05)\n",
    "print(f'ci 95% for control group: [{lower_con:.3f}, {upper_con:.3f}]')\n",
    "print(f'ci 95% for treatment group: [{lower_treat:.3f}, {upper_treat:.3f}]')"
   ]
  },
  {
   "cell_type": "code",
   "execution_count": null,
   "metadata": {},
   "outputs": [],
   "source": []
  },
  {
   "cell_type": "code",
   "execution_count": 12,
   "metadata": {},
   "outputs": [
    {
     "name": "stdout",
     "output_type": "stream",
     "text": [
      "0.9999841648831467\n"
     ]
    }
   ],
   "source": [
    "#checking the confidance value of the ab test\n",
    "def get_confidence_ab_test(std_a, std_b, conversion_rate_A, A_original, conversion_rate_B, B_variant):\n",
    "    z_score = (conversion_rate_B - conversion_rate_A) / np.sqrt(std_a**2 + std_b**2)\n",
    "    return norm.cdf(z_score)\n",
    "print(get_confidence_ab_test(std_a,std_b,conversion_rate_A, A_original, conversion_rate_B, B_variant))"
   ]
  },
  {
   "cell_type": "markdown",
   "metadata": {},
   "source": [
    "# Looking at the confidence value and the pvalue which is less than 0.05, our results are statistically significant and so we can be sure that the variant version outperforms the original version. "
   ]
  },
  {
   "cell_type": "markdown",
   "metadata": {},
   "source": [
    "#### we can use other scipy libraries to check the hypothesis for convinience like  mannwhitneyu and Welsch’s t-test"
   ]
  },
  {
   "cell_type": "code",
   "execution_count": 13,
   "metadata": {},
   "outputs": [
    {
     "name": "stdout",
     "output_type": "stream",
     "text": [
      "Mann-Whitney U test for null hypothesis of version B out performing A is 1.586102735394054e-05\n"
     ]
    }
   ],
   "source": [
    "from scipy.stats import mannwhitneyu\n",
    "a_dist = np.zeros(A_original)\n",
    "a_dist[:A_original_conversions] = 1\n",
    "b_dist = np.zeros(B_variant)\n",
    "b_dist[:B_variant_conversions] = 1\n",
    "stat, p_value = mannwhitneyu(a_dist, b_dist, alternative=\"less\")\n",
    "print(f\"Mann-Whitney U test for null hypothesis of version B out performing A is {p_value}\")"
   ]
  },
  {
   "cell_type": "markdown",
   "metadata": {},
   "source": [
    "#### Answering the Questions.\n",
    "Given the data provided and assuming that we have run the experiment long enough:\n",
    "* Should we change the current status quo? Why?\n",
    "\n",
    "#### Since it is clear that the variant version outperforms the original version, we can reject the null hypothesis and change the status quo\n",
    "#### The uplift is 6.840580305% which is more 5% so it is safe to roll out the new version."
   ]
  }
 ],
 "metadata": {
  "kernelspec": {
   "display_name": "Python 3",
   "language": "python",
   "name": "python3"
  },
  "language_info": {
   "codemirror_mode": {
    "name": "ipython",
    "version": 3
   },
   "file_extension": ".py",
   "mimetype": "text/x-python",
   "name": "python",
   "nbconvert_exporter": "python",
   "pygments_lexer": "ipython3",
   "version": "3.8.6"
  }
 },
 "nbformat": 4,
 "nbformat_minor": 4
}
